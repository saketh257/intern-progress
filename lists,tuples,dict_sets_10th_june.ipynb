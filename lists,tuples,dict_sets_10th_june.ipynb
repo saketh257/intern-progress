{
  "nbformat": 4,
  "nbformat_minor": 0,
  "metadata": {
    "colab": {
      "provenance": [],
      "authorship_tag": "ABX9TyOfpVlMXl6y27VS3DtJpBYE",
      "include_colab_link": true
    },
    "kernelspec": {
      "name": "python3",
      "display_name": "Python 3"
    },
    "language_info": {
      "name": "python"
    }
  },
  "cells": [
    {
      "cell_type": "markdown",
      "metadata": {
        "id": "view-in-github",
        "colab_type": "text"
      },
      "source": [
        "<a href=\"https://colab.research.google.com/github/saketh257/intern-progress/blob/main/lists%2Ctuples%2Cdict_sets_10th_june.ipynb\" target=\"_parent\"><img src=\"https://colab.research.google.com/assets/colab-badge.svg\" alt=\"Open In Colab\"/></a>"
      ]
    },
    {
      "cell_type": "code",
      "execution_count": 1,
      "metadata": {
        "colab": {
          "base_uri": "https://localhost:8080/"
        },
        "id": "RLrMVKLumIk0",
        "outputId": "2b4b1e92-70d5-4331-d061-1c10c0014051"
      },
      "outputs": [
        {
          "output_type": "execute_result",
          "data": {
            "text/plain": [
              "6"
            ]
          },
          "metadata": {},
          "execution_count": 1
        }
      ],
      "source": [
        "a = []\n",
        "b = list()\n",
        "c = [4, 5, 6]\n",
        "d = list(\"world\")\n",
        "e = [i for i in range(5)]\n",
        "f = list(range(5))\n",
        "g = [1] * 3\n",
        "h = [7, 8, 9] + [10, 11, 12]\n",
        "i = []\n",
        "i.append(4)\n",
        "i.append(5)\n",
        "i.append(6)\n",
        "j = []\n",
        "j.extend([7, 8, 9])\n",
        "k = []\n",
        "k.insert(0, 4)\n",
        "k.insert(1, 5)\n",
        "k.insert(2, 6)\n",
        "l = []\n",
        "l.clear()\n",
        "m = [4, 5, 6]\n",
        "m.pop()\n",
        "n = [7, 8, 9]\n",
        "n.remove(8)\n",
        "o = [9, 7, 8]\n",
        "o.sort()\n",
        "p = [4, 5, 6]\n",
        "p.reverse()\n",
        "q = [4, 5, 5, 6]\n",
        "count_5 = q.count(5)\n",
        "r = [4, 5, 6]\n",
        "index_of_5 = r.index(5)\n",
        "s = [4, 5, 6]\n",
        "s.extend([7, 8])\n",
        "t = [4, 5, 6]\n",
        "u = t.copy()\n",
        "v = [4, 5, 6]\n",
        "w = v * 2\n",
        "x = [4, 5, 6]\n",
        "y = x[:2]\n",
        "z = [4, 5, 6]\n",
        "z.sort(reverse=True)\n",
        "a1 = [4, 5, 6]\n",
        "a1.clear()\n",
        "b1 = [4, 5, 6]\n",
        "del b1[1]\n",
        "c1 = [4, 5, 6, 7, 8]\n",
        "sublist = c1[1:4]\n",
        "d1 = [4, 5, 6, 7, 8]\n",
        "d1[2] = 9\n",
        "e1 = [4, 5, 6]\n",
        "e1.extend([7, 8, 9])\n",
        "f1 = [4, 5, 6]\n",
        "f1.insert(1, 10)\n",
        "g1 = [4, 5, 6, 7]\n",
        "g1.reverse()\n",
        "h1 = [4, 5, 6, 7]\n",
        "h1.pop(2)\n"
      ]
    },
    {
      "cell_type": "code",
      "source": [
        "#Removing duplicates\n",
        "def a(p):\n",
        "  s=set(p)\n",
        "  return s\n",
        "print(list(a([1,1,2,3,4,5])  ))"
      ],
      "metadata": {
        "colab": {
          "base_uri": "https://localhost:8080/"
        },
        "id": "JGje1elIoEIG",
        "outputId": "d0490992-7b73-4d16-a3ed-c186687f3301"
      },
      "execution_count": 2,
      "outputs": [
        {
          "output_type": "stream",
          "name": "stdout",
          "text": [
            "[1, 2, 3, 4, 5]\n"
          ]
        }
      ]
    }
  ]
}