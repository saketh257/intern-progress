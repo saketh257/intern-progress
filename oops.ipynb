{
  "nbformat": 4,
  "nbformat_minor": 0,
  "metadata": {
    "colab": {
      "provenance": [],
      "authorship_tag": "ABX9TyNk+NOaZyPeXmDrp2rzWgzd",
      "include_colab_link": true
    },
    "kernelspec": {
      "name": "python3",
      "display_name": "Python 3"
    },
    "language_info": {
      "name": "python"
    }
  },
  "cells": [
    {
      "cell_type": "markdown",
      "metadata": {
        "id": "view-in-github",
        "colab_type": "text"
      },
      "source": [
        "<a href=\"https://colab.research.google.com/github/saketh257/intern-progress/blob/main/oops.ipynb\" target=\"_parent\"><img src=\"https://colab.research.google.com/assets/colab-badge.svg\" alt=\"Open In Colab\"/></a>"
      ]
    },
    {
      "cell_type": "code",
      "execution_count": null,
      "metadata": {
        "id": "XK3BdFsOezCl"
      },
      "outputs": [],
      "source": [
        "#syntax\n",
        "class Animal:\n",
        "  pass\n",
        "\n",
        "my_pet = Animal()\n"
      ]
    },
    {
      "cell_type": "code",
      "source": [
        "# Instance Variables\n",
        "class Animal:\n",
        "  def __init__(self, name):\n",
        "    self.name = name\n",
        "\n",
        "Animal(\"Lion\")\n",
        "print(Animal(\"Lion\").name)\n"
      ],
      "metadata": {
        "colab": {
          "base_uri": "https://localhost:8080/"
        },
        "id": "rdHNQ5fJg4go",
        "outputId": "f0ef80ef-b70b-41d9-d2b8-187223c4d45b"
      },
      "execution_count": null,
      "outputs": [
        {
          "output_type": "stream",
          "name": "stdout",
          "text": [
            "Lion\n"
          ]
        }
      ]
    },
    {
      "cell_type": "code",
      "source": [
        "# Class Variables\n",
        "class Animal:\n",
        "  population = 0\n",
        "\n",
        "  def increase_population(self):\n",
        "    Animal.population += 1\n",
        "\n",
        "Animal()\n",
        "Animal()\n",
        "Animal().increase_population()\n",
        "print(Animal.population)\n"
      ],
      "metadata": {
        "colab": {
          "base_uri": "https://localhost:8080/"
        },
        "id": "y_nPyDqKhJqg",
        "outputId": "b51dfc28-5317-4db4-cd09-4ae4a635560e"
      },
      "execution_count": null,
      "outputs": [
        {
          "output_type": "stream",
          "name": "stdout",
          "text": [
            "1\n"
          ]
        }
      ]
    },
    {
      "cell_type": "code",
      "source": [
        "# Normal Methods\n",
        "class Animal:\n",
        "  def sound(self):\n",
        "    print(\"Roar!\")\n",
        "\n",
        "my_pet = Animal()\n",
        "my_pet.sound()\n"
      ],
      "metadata": {
        "colab": {
          "base_uri": "https://localhost:8080/"
        },
        "id": "iexdBMQ7jfgA",
        "outputId": "d1fd0a71-64a0-4b88-d061-57f607141f75"
      },
      "execution_count": null,
      "outputs": [
        {
          "output_type": "stream",
          "name": "stdout",
          "text": [
            "Roar!\n"
          ]
        }
      ]
    },
    {
      "cell_type": "code",
      "source": [
        "# init method (Used for initialization)\n",
        "class Animal:\n",
        "  def __init__(self, species, age):\n",
        "    self.species = species\n",
        "    self.age = age\n",
        "    print(\"Animal successfully created\")\n",
        "\n",
        "my_pet = Animal(\"Lion\", 5)\n"
      ],
      "metadata": {
        "colab": {
          "base_uri": "https://localhost:8080/"
        },
        "id": "zSbZQC7Ek0FQ",
        "outputId": "f6662a38-a60c-4e4e-a091-50bc2dcc7a71"
      },
      "execution_count": null,
      "outputs": [
        {
          "output_type": "stream",
          "name": "stdout",
          "text": [
            "Animal successfully created\n"
          ]
        }
      ]
    },
    {
      "cell_type": "code",
      "source": [
        "# Constructor with arguments\n",
        "class Book:\n",
        "  def __init__(self):\n",
        "    print(\"Constructor is called\")\n",
        "\n",
        "my_book = Book()\n"
      ],
      "metadata": {
        "colab": {
          "base_uri": "https://localhost:8080/"
        },
        "id": "rPjLZYTClDTv",
        "outputId": "4386b823-1923-41e4-b092-cf82de3f3b70"
      },
      "execution_count": null,
      "outputs": [
        {
          "output_type": "stream",
          "name": "stdout",
          "text": [
            "Constructor is called\n"
          ]
        }
      ]
    },
    {
      "cell_type": "code",
      "source": [
        "# Destructor\n",
        "class Vehicle:\n",
        "  def __del__(self):\n",
        "    print(\"Destructor successfully called\")\n",
        "\n",
        "my_vehicle = Vehicle()\n",
        "del my_vehicle\n"
      ],
      "metadata": {
        "colab": {
          "base_uri": "https://localhost:8080/"
        },
        "id": "n3EDCEA9lfJv",
        "outputId": "3c9ee584-aac7-42d7-d6ea-d45140b08c26"
      },
      "execution_count": null,
      "outputs": [
        {
          "output_type": "stream",
          "name": "stdout",
          "text": [
            "Destructor successfully called\n"
          ]
        }
      ]
    },
    {
      "cell_type": "code",
      "source": [
        "# Private members\n",
        "class BankAccount:\n",
        "  def __init__(self, balance):\n",
        "    self.__balance = balance\n",
        "\n",
        "  def update_balance(self, amount):\n",
        "    self.__balance = amount\n",
        "\n",
        "  def display_balance(self):\n",
        "    print(self.__balance)\n",
        "\n",
        "account = BankAccount(500)\n",
        "# print(account.balance)  # This would raise an AttributeError\n",
        "account.display_balance()\n",
        "account.update_balance(1000)\n",
        "account.display_balance()\n"
      ],
      "metadata": {
        "colab": {
          "base_uri": "https://localhost:8080/"
        },
        "id": "-Ssp84hMliyn",
        "outputId": "a60b5243-fef6-492d-cb85-695a5fb5766b"
      },
      "execution_count": null,
      "outputs": [
        {
          "output_type": "stream",
          "name": "stdout",
          "text": [
            "500\n",
            "1000\n"
          ]
        }
      ]
    }
  ]
}